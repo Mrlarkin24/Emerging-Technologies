{
 "cells": [
  {
   "cell_type": "markdown",
   "metadata": {},
   "source": [
    "![numpyimg](https://upload.wikimedia.org/wikipedia/commons/thumb/1/1a/NumPy_logo.svg/500px-NumPy_logo.svg.png)"
   ]
  },
  {
   "cell_type": "markdown",
   "metadata": {},
   "source": [
    "# <center>Numpy.Random Package</center>"
   ]
  },
  {
   "cell_type": "markdown",
   "metadata": {},
   "source": [
    "## 1: Introduction\n",
    "NumPy is an open source extension to the Python programming language. It adds support for large, multi-dimensional arrays and matrices, and provides a large library of high-level mathematical functions to operate on these arrays. This notebook will display my understanding of the numpy.random package."
   ]
  },
  {
   "cell_type": "markdown",
   "metadata": {},
   "source": [
    "## 2: Imports\n",
    "The following are imports needed to use and display aspects of numpy.random. The first import \"import numpy as np\" is needed to use the numpy packages and assigns it to np, the second import \"import matplotlib.pyplot as plt\" allows the data to be displayed as graphs."
   ]
  },
  {
   "cell_type": "code",
   "execution_count": 1,
   "metadata": {},
   "outputs": [],
   "source": [
    "## Import packages\n",
    "import numpy as np\n",
    "import matplotlib.pyplot as plt"
   ]
  },
  {
   "cell_type": "markdown",
   "metadata": {},
   "source": [
    "## 3: Simple random data Examples\n",
    "### Random.rand:\n",
    "Random.rand generates random values in a array, the array size is specified in the round brackets. In this case it is a 4x4 array. rand uses a uniform distribution."
   ]
  },
  {
   "cell_type": "code",
   "execution_count": 2,
   "metadata": {},
   "outputs": [
    {
     "data": {
      "text/plain": [
       "array([[0.37836675, 0.69929075, 0.77988745, 0.04563816],\n",
       "       [0.94919235, 0.57518031, 0.51452558, 0.8286532 ],\n",
       "       [0.86607658, 0.46958704, 0.55332913, 0.29009848],\n",
       "       [0.04234152, 0.89282249, 0.34070392, 0.30306803]])"
      ]
     },
     "execution_count": 2,
     "metadata": {},
     "output_type": "execute_result"
    }
   ],
   "source": [
    "## Generates a 4x4 array of numbers between 0 & 1\n",
    "np.random.rand(4,4)"
   ]
  },
  {
   "cell_type": "code",
   "execution_count": 3,
   "metadata": {},
   "outputs": [
    {
     "data": {
      "image/png": "[encoded data removed]",
      "text/plain": [
       "<Figure size 432x288 with 1 Axes>"
      ]
     },
     "metadata": {
      "needs_background": "light"
     },
     "output_type": "display_data"
    }
   ],
   "source": [
    "## Assigns np.random.rand(1000) to x to allow it to be diplayed as graph using the matplotlib.pyplot package \n",
    "x = np.random.rand(1000)\n",
    "plt.hist(x)\n",
    "plt.show()"
   ]
  },
  {
   "cell_type": "markdown",
   "metadata": {},
   "source": [
    "### Random.randn:\n",
    "Similar to Random.rand but it uses a standard normal distribution, instead of picking a number between 0 & 1 it uses the mean 0 with a variance 1 which when the data is put into a graph results in a bell curved distrabution."
   ]
  },
  {
   "cell_type": "code",
   "execution_count": 4,
   "metadata": {},
   "outputs": [
    {
     "data": {
      "text/plain": [
       "array([[-1.24790089, -0.15439702, -0.16792409, -0.8012477 ],\n",
       "       [ 0.78482507, -2.76076799, -0.22281647,  0.39545291],\n",
       "       [-1.06709627, -0.40028848,  1.57519106,  0.22765835],\n",
       "       [ 0.20008673, -0.88773871, -0.66750411, -1.24010268]])"
      ]
     },
     "execution_count": 4,
     "metadata": {},
     "output_type": "execute_result"
    }
   ],
   "source": [
    "np.random.randn(4,4)"
   ]
  },
  {
   "cell_type": "code",
   "execution_count": 5,
   "metadata": {
    "scrolled": true
   },
   "outputs": [
    {
     "data": {
      "image/png": "[encoded data removed]",
      "text/plain": [
       "<Figure size 432x288 with 1 Axes>"
      ]
     },
     "metadata": {
      "needs_background": "light"
     },
     "output_type": "display_data"
    }
   ],
   "source": [
    "x = np.random.randn(1000)\n",
    "plt.hist(x)\n",
    "plt.show()"
   ]
  },
  {
   "cell_type": "markdown",
   "metadata": {},
   "source": [
    "## 4: Distributions Examples\n",
    "### Random.uniform:\n",
    "Draws samples from a uniform distribution. When values in a set of data are equally spread across the range the distribution is considered uniform."
   ]
  },
  {
   "cell_type": "code",
   "execution_count": 6,
   "metadata": {},
   "outputs": [
    {
     "data": {
      "text/plain": [
       "array([94.91906051, 36.16206639, 71.65611222, 48.02420504, 72.24116504,\n",
       "       20.97737747, 85.26116311, 28.15045466, 70.54204421, 23.97738163,\n",
       "       56.50792553, 78.16608297, 71.35313692, 48.42746927, 43.39959937,\n",
       "       50.39862878, 22.88876078, 32.63865326, 74.17547671, 85.94233242])"
      ]
     },
     "execution_count": 6,
     "metadata": {},
     "output_type": "execute_result"
    }
   ],
   "source": [
    "np.random.uniform(0,100,20)"
   ]
  },
  {
   "cell_type": "code",
   "execution_count": 7,
   "metadata": {},
   "outputs": [
    {
     "data": {
      "image/png": "[encoded data removed]",
      "text/plain": [
       "<Figure size 432x288 with 1 Axes>"
      ]
     },
     "metadata": {
      "needs_background": "light"
     },
     "output_type": "display_data"
    }
   ],
   "source": [
    "x = np.random.uniform(0,100,1000)\n",
    "plt.hist(x)\n",
    "plt.show()"
   ]
  },
  {
   "cell_type": "markdown",
   "metadata": {},
   "source": [
    "### Random.normal:\n",
    "Draws random samples from a normal distribution. Normal distribution uses the mean and the standard deviation, the mean being the central point of the graph and the standard deviation is how much the samples differ from the mean value. When the standard deviation is large range is wider and the opposite is true when the standard deviation is small."
   ]
  },
  {
   "cell_type": "code",
   "execution_count": 8,
   "metadata": {},
   "outputs": [
    {
     "data": {
      "text/plain": [
       "array([ -34.90874776,  161.46363711,   51.60484378,   -2.71331125,\n",
       "         81.44886705,   95.38620735,  -84.48454779,  161.43562167,\n",
       "        -98.04882978,    9.36161182,  100.15851398,   56.3140913 ,\n",
       "         68.77279925,   54.90041362,   81.6928074 ,   67.07038798,\n",
       "        -59.28870105, -162.99190934,   -1.28878825,   37.81081978])"
      ]
     },
     "execution_count": 8,
     "metadata": {},
     "output_type": "execute_result"
    }
   ],
   "source": [
    "np.random.normal(0,100,20)"
   ]
  },
  {
   "cell_type": "code",
   "execution_count": 9,
   "metadata": {},
   "outputs": [
    {
     "data": {
      "image/png": "[encoded data removed]",
      "text/plain": [
       "<Figure size 432x288 with 1 Axes>"
      ]
     },
     "metadata": {
      "needs_background": "light"
     },
     "output_type": "display_data"
    }
   ],
   "source": [
    "## Small standard deviation\n",
    "x = np.random.normal(0,1,1000)\n",
    "plt.hist(x)\n",
    "plt.show()"
   ]
  },
  {
   "cell_type": "code",
   "execution_count": 10,
   "metadata": {},
   "outputs": [
    {
     "data": {
      "image/png": "[encoded data removed]",
      "text/plain": [
       "<Figure size 432x288 with 1 Axes>"
      ]
     },
     "metadata": {
      "needs_background": "light"
     },
     "output_type": "display_data"
    }
   ],
   "source": [
    "## Large standard deviation\n",
    "x = np.random.normal(0,100,1000)\n",
    "plt.hist(x)\n",
    "plt.show()"
   ]
  },
  {
   "cell_type": "markdown",
   "metadata": {},
   "source": [
    "### Random.exponential:\n",
    "Draw random samples from a exponential distribution. When values in a set of data lean heavily to one side of the range and slope downwards to the other side the distribution is considered exponential."
   ]
  },
  {
   "cell_type": "code",
   "execution_count": 11,
   "metadata": {},
   "outputs": [
    {
     "data": {
      "text/plain": [
       "array([ 87.08007442,  79.2431437 ,  12.90676726,  66.17959044,\n",
       "        21.4438299 ,  88.26698484, 270.30086096, 131.94392758,\n",
       "       277.71820683, 503.28171586, 253.60918143, 147.43324796,\n",
       "        24.04443349, 128.3957307 , 217.11103345,  20.96619168,\n",
       "        69.54432065,   4.61854348,   5.22770683,   4.82321692])"
      ]
     },
     "execution_count": 11,
     "metadata": {},
     "output_type": "execute_result"
    }
   ],
   "source": [
    "np.random.exponential(100, 20)"
   ]
  },
  {
   "cell_type": "code",
   "execution_count": 12,
   "metadata": {},
   "outputs": [
    {
     "data": {
      "image/png": "[encoded data removed]",
      "text/plain": [
       "<Figure size 432x288 with 1 Axes>"
      ]
     },
     "metadata": {
      "needs_background": "light"
     },
     "output_type": "display_data"
    }
   ],
   "source": [
    "x = np.random.exponential(100, 20)\n",
    "plt.hist(x)\n",
    "plt.show()"
   ]
  },
  {
   "cell_type": "markdown",
   "metadata": {},
   "source": [
    "## 5: Permutations Example\n",
    "### Random.shuffle:\n",
    "Random.shuffle take the values contained in a array and shuffles them around."
   ]
  },
  {
   "cell_type": "code",
   "execution_count": 13,
   "metadata": {},
   "outputs": [
    {
     "data": {
      "text/plain": [
       "array([6, 2, 7, 5, 4, 0, 3, 8, 1, 9])"
      ]
     },
     "execution_count": 13,
     "metadata": {},
     "output_type": "execute_result"
    }
   ],
   "source": [
    "arr = np.arange(10) ## Generates an array with 10 values\n",
    "np.random.shuffle(arr)\n",
    "arr"
   ]
  },
  {
   "cell_type": "markdown",
   "metadata": {},
   "source": [
    "## 6: Random generator Example\n",
    "### Random.RandomState:\n",
    "Random.RandomState simply allows you to set the seed used to generate 'random' numbers, if the seed stays the same then so will the number generated."
   ]
  },
  {
   "cell_type": "code",
   "execution_count": 14,
   "metadata": {},
   "outputs": [
    {
     "data": {
      "text/plain": [
       "array([0.07630829, 0.77991879, 0.43840923, 0.72346518, 0.97798951,\n",
       "       0.53849587, 0.50112046, 0.07205113, 0.26843898, 0.4998825 ])"
      ]
     },
     "execution_count": 14,
     "metadata": {},
     "output_type": "execute_result"
    }
   ],
   "source": [
    "setSeed = np.random.RandomState(7)\n",
    "\n",
    "setSeed.rand(10)"
   ]
  },
  {
   "cell_type": "code",
   "execution_count": 15,
   "metadata": {},
   "outputs": [
    {
     "data": {
      "text/plain": [
       "array([0.07630829, 0.77991879, 0.43840923, 0.72346518, 0.97798951,\n",
       "       0.53849587, 0.50112046, 0.07205113, 0.26843898, 0.4998825 ])"
      ]
     },
     "execution_count": 15,
     "metadata": {},
     "output_type": "execute_result"
    }
   ],
   "source": [
    "setSeed = np.random.RandomState(7)\n",
    "\n",
    "setSeed.rand(10)"
   ]
  },
  {
   "cell_type": "markdown",
   "metadata": {},
   "source": [
    "## References\n",
    "- [Numpy Package docs](https://docs.scipy.org/doc/numpy-1.15.1/reference/routines.random.html)\n",
    "- [Stat Trek](https://stattrek.com/statistics/dictionary.aspx?definition=uniform_distribution)\n",
    "\n",
    "Written by Peter Larkin"
   ]
  }
 ],
 "metadata": {
  "kernelspec": {
   "display_name": "Python 3",
   "language": "python",
   "name": "python3"
  },
  "language_info": {
   "codemirror_mode": {
    "name": "ipython",
    "version": 3
   },
   "file_extension": ".py",
   "mimetype": "text/x-python",
   "name": "python",
   "nbconvert_exporter": "python",
   "pygments_lexer": "ipython3",
   "version": "3.7.0"
  }
 },
 "nbformat": 4,
 "nbformat_minor": 2
}
