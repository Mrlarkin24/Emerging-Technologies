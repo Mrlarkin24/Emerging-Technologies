{
 "cells": [
  {
   "cell_type": "markdown",
   "metadata": {},
   "source": [
    "# <center>Iris dataset</center>"
   ]
  },
  {
   "cell_type": "markdown",
   "metadata": {},
   "source": [
    "![pandas logo](https://pandas.pydata.org/_static/pandas_logo.png)\n",
    "\n",
    "![Iris flowers](http://dataaspirant.com/wp-content/uploads/2017/01/irises.png)"
   ]
  },
  {
   "cell_type": "markdown",
   "metadata": {},
   "source": [
    "# 1. Introduction\n",
    "## What is Iris Dataset?\n",
    "The Iris flower data set is a specific set of information compiled by Ronald Fisher, a biologist, in the 1930s. It describes particular biological characteristics of various types of Iris flowers, specifically, the length and width of both pedals and the sepals, which are part of the flower’s reproductive system. The Iris flower data set is now widely used as a data set for testing purposes in computer science\n",
    "\n",
    "The Iris data set has three different species of iris.\n",
    "- Versicolor\n",
    "- Setosia\n",
    "- Verginica\n",
    "\n",
    "For each of these species there are four measurements taken:\n",
    "- Petal width\n",
    "- Petal length\n",
    "- Sepple width\n",
    "- Sepple length"
   ]
  },
  {
   "cell_type": "markdown",
   "metadata": {},
   "source": [
    "# 2. Setup\n",
    "## Imports"
   ]
  },
  {
   "cell_type": "code",
   "execution_count": 4,
   "metadata": {},
   "outputs": [],
   "source": [
    "# Import pandas for handling data set\n",
    "import pandas as pandas\n",
    "# Import seaborn for visualizing our data\n",
    "import seaborn as sea\n",
    "# Import numpy as np for mathematical operations\n",
    "import numpy as np\n",
    "# Import pyplot also for visualizing our data\n",
    "import matplotlib.pyplot as plot"
   ]
  },
  {
   "cell_type": "code",
   "execution_count": null,
   "metadata": {},
   "outputs": [],
   "source": []
  }
 ],
 "metadata": {
  "kernelspec": {
   "display_name": "Python 3",
   "language": "python",
   "name": "python3"
  },
  "language_info": {
   "codemirror_mode": {
    "name": "ipython",
    "version": 3
   },
   "file_extension": ".py",
   "mimetype": "text/x-python",
   "name": "python",
   "nbconvert_exporter": "python",
   "pygments_lexer": "ipython3",
   "version": "3.7.0"
  }
 },
 "nbformat": 4,
 "nbformat_minor": 2
}
